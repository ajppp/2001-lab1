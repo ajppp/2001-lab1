{
 "cells": [
  {
   "cell_type": "markdown",
   "metadata": {},
   "source": [
    "# Empirical Analysis"
   ]
  },
  {
   "cell_type": "code",
   "execution_count": 1,
   "metadata": {},
   "outputs": [],
   "source": [
    "# import algorithms used in the project\n",
    "from brute_force.brute_force import bruteForce\n",
    "from kmp.kmp import preprocessNeedle, KMPSearch\n",
    "\n",
    "# import libraries used\n",
    "import os\n",
    "import timeit\n",
    "import numpy as np\n",
    "from Bio import SeqIO\n",
    "from Bio import Seq"
   ]
  },
  {
   "cell_type": "code",
   "execution_count": 2,
   "metadata": {},
   "outputs": [],
   "source": [
    "# determine the needle and haystack to be used for analysis\n",
    "needle = \"ATCGATACGC\" # fix the pattern to be searched\n",
    "haystack_1 = next(SeqIO.parse(\"data/GCF_000264905.1_Stehi1_genomic.fna\", \"fasta\")).seq\n",
    "haystack_2 = next(SeqIO.parse(\"data/GRCh38_latest_genomic.fna\", \"fasta\")).seq"
   ]
  },
  {
   "cell_type": "code",
   "execution_count": 3,
   "metadata": {},
   "outputs": [
    {
     "name": "stdout",
     "output_type": "stream",
     "text": [
      "Pattern found at index 2656952\n",
      "\n",
      "Brute force execution time for first haystack: 1.2828933970013168 seconds\n",
      "Pattern found at index: 2656952\n",
      "\n",
      "KMP execution time for first haystack: 1.7397617859969614 seconds\n"
     ]
    }
   ],
   "source": [
    "# analysis for first haystack\n",
    "timeTaken = timeit.timeit(lambda: bruteForce(needle, haystack_1), number = 1)\n",
    "print(\"\\nBrute force execution time for first haystack: \" + str(timeTaken) + \" seconds\\n\")\n",
    "timeTaken = timeit.timeit(lambda: KMPSearch(needle, haystack_1), number = 1)\n",
    "print(\"\\nKMP execution time for first haystack: \" + str(timeTaken) + \" seconds\")"
   ]
  },
  {
   "cell_type": "code",
   "execution_count": 4,
   "metadata": {},
   "outputs": [
    {
     "name": "stdout",
     "output_type": "stream",
     "text": [
      "Pattern found at index 14247649\n",
      "Pattern found at index 205456233\n",
      "Pattern found at index 211400196\n",
      "\n",
      "Brute force execution time for second haystack: 77.49650929200288 seconds\n",
      "Pattern found at index: 14247649\n",
      "Pattern found at index: 205456233\n",
      "Pattern found at index: 211400196\n",
      "\n",
      "KMP execution time for second haystack: 113.49241875699954 seconds\n"
     ]
    }
   ],
   "source": [
    "# analysis for second haystack\n",
    "timeTaken = timeit.timeit(lambda: bruteForce(needle, haystack_2), number = 1)\n",
    "print(\"\\nBrute force execution time for second haystack: \" + str(timeTaken) + \" seconds\\n\")\n",
    "timeTaken = timeit.timeit(lambda: KMPSearch(needle, haystack_2), number = 1)\n",
    "print(\"\\nKMP execution time for second haystack: \" + str(timeTaken) + \" seconds\")"
   ]
  },
  {
   "cell_type": "markdown",
   "metadata": {},
   "source": [
    "---\n",
    "## Worst Case for Brute Force"
   ]
  },
  {
   "cell_type": "code",
   "execution_count": null,
   "metadata": {},
   "outputs": [],
   "source": [
    "# determine the needle and haystack to be used for analysis\n",
    "needle = \"AAAAC\" # fix the pattern to be searched\n",
    "haystack = \"A\" * 100000\n"
   ]
  },
  {
   "cell_type": "code",
   "execution_count": null,
   "metadata": {},
   "outputs": [],
   "source": [
    "# analysis for first haystack\n",
    "timeTaken = timeit.timeit(lambda: bruteForce(needle, haystack), number = 1)\n",
    "print(\"\\nBrute force execution time for first haystack: \" + str(timeTaken) + \" seconds\\n\")\n",
    "timeTaken = timeit.timeit(lambda: KMPSearch(needle, haystack), number = 1)\n",
    "print(\"\\nKMP execution time for first haystack: \" + str(timeTaken) + \" seconds\")"
   ]
  },
  {
   "cell_type": "code",
   "execution_count": null,
   "metadata": {},
   "outputs": [],
   "source": []
  }
 ],
 "metadata": {
  "kernelspec": {
   "display_name": "Python 3",
   "language": "python",
   "name": "python3"
  },
  "language_info": {
   "codemirror_mode": {
    "name": "ipython",
    "version": 3
   },
   "file_extension": ".py",
   "mimetype": "text/x-python",
   "name": "python",
   "nbconvert_exporter": "python",
   "pygments_lexer": "ipython3",
   "version": "3.8.3"
  }
 },
 "nbformat": 4,
 "nbformat_minor": 4
}
